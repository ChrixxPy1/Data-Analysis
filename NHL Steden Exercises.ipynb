{
 "cells": [
  {
   "cell_type": "code",
   "execution_count": null,
   "id": "992b08da",
   "metadata": {},
   "outputs": [],
   "source": [
    "#Import Necessary Libraries \n",
    "\n",
    "import csv\n",
    "import numpy as np\n",
    "from typing import Set,Tuple, List\n",
    "import torch\n",
    "import torch.utils\n",
    "import torch.utils.data\n",
    "import torch.nn as nn\n",
    "import torchvision\n",
    "NoneType = type(None)\n",
    "import matplotlib.pyplot as plt\n",
    "from IPython.display import display, clear_output\n",
    "from PIL import Image\n",
    "import torchvision.transforms.functional as TF\n",
    "from torchvision.models import vgg11\n",
    "from torchvision.models import mobilenet_v2\n",
    "import torchvision.transforms as transforms\n",
    "import time"
   ]
  },
  {
   "cell_type": "markdown",
   "id": "85172f04",
   "metadata": {},
   "source": [
    "### Exercise 1."
   ]
  },
  {
   "cell_type": "markdown",
   "id": "42ac8ba9",
   "metadata": {},
   "source": [
    "#### Answer to exercise 1:\n",
    "\n",
    "The issue with the id_to_fruit function lies in the fact that sets in Python are unordered collections, so the order of elements is not guaranteed. Therefore, iterating through a set and trying to match the index fruit_id will not reliably return the expected fruit name.\n",
    "\n",
    "To fix this issue, you can convert the set to a list before iterating over it, as lists maintain the order of elements. Here's the corrected version of the function:"
   ]
  },
  {
   "cell_type": "code",
   "execution_count": null,
   "id": "b9cfa2e3",
   "metadata": {},
   "outputs": [],
   "source": [
    "def id_to_fruit(fruit_id: int, fruits: Set[str]) -> str:\n",
    "    \"\"\"\n",
    "    This method returns the fruit name by getting the string at a specific index of the set.\n",
    "\n",
    "    :param fruit_id: The id of the fruit to get\n",
    "    :param fruits: The set of fruits to choose the id from\n",
    "    :return: The string corresponding to the index ``fruit_id``\n",
    "    \"\"\"\n",
    "    fruit_list = list(fruits)\n",
    "    if 0 <= fruit_id < len(fruit_list):\n",
    "        return fruit_list[fruit_id]\n",
    "    else:\n",
    "        raise ValueError(f\"Fruit with id {fruit_id} does not exist\")"
   ]
  },
  {
   "cell_type": "markdown",
   "id": "c3c24c9f",
   "metadata": {},
   "source": [
    "By converting the set fruits to a list fruit_list, we can then reliably access elements by their index, which should now return the expected fruit names."
   ]
  },
  {
   "cell_type": "code",
   "execution_count": null,
   "id": "d51e4f4f",
   "metadata": {},
   "outputs": [],
   "source": []
  },
  {
   "cell_type": "code",
   "execution_count": null,
   "id": "fd66a825",
   "metadata": {},
   "outputs": [],
   "source": []
  },
  {
   "cell_type": "markdown",
   "id": "2d896095",
   "metadata": {},
   "source": [
    "### Exercise 2"
   ]
  },
  {
   "cell_type": "markdown",
   "id": "37790524",
   "metadata": {},
   "source": [
    "Obvious Error: The code to swap the coordinates in the swap function seems incorrect. It's swapping the x and y coordinates incorrectly. For instance, in the line coords[:, 0], coords[:, 1], coords[:, 2], coords[:, 3], = coords[:, 1], coords[:, 1], coords[:, 3], coords[:, 2], it's assigning y1 to x1, y1 to y1, y2 to x2, and x2 to y2, which is not correct.\n",
    "\n",
    "Fixing the Issue: To fix this, you need to correctly swap x1 with y1 and x2 with y2. You can do this by swapping the correct indices."
   ]
  },
  {
   "cell_type": "code",
   "execution_count": 4,
   "id": "f90c89b3",
   "metadata": {},
   "outputs": [],
   "source": [
    "def swap(coords: np.ndarray):\n",
    "    \"\"\"\n",
    "    This method will flip the x and y coordinates in the coords array.\n",
    "\n",
    "    :param coords: A numpy array of bounding box coordinates with shape [n,5] in format:\n",
    "        ::\n",
    "\n",
    "            [[x11, y11, x12, y12, classid1],\n",
    "             [x21, y21, x22, y22, classid2],\n",
    "             ...\n",
    "             [xn1, yn1, xn2, yn2, classid3]]\n",
    "\n",
    "    :return: The new numpy array where the x and y coordinates are flipped.\n",
    "\n",
    "    **This method is part of a series of debugging exercises.**\n",
    "    **Each Python method of this series contains bug that needs to be found.**\n",
    "\n",
    "    | ``1   Can you spot the obvious error?``\n",
    "    | ``2   After fixing the obvious error it is still wrong, how can this be fixed?``\n",
    "\n",
    "    >>> import numpy as np\n",
    "    >>> coords = np.array([[10, 5, 15, 6, 0],\n",
    "    ...                    [11, 3, 13, 6, 0],\n",
    "    ...                    [5, 3, 13, 6, 1],\n",
    "    ...                    [4, 4, 13, 6, 1],\n",
    "    ...                    [6, 5, 13, 16, 1]])\n",
    "    >>> swapped_coords = swap(coords)\n",
    "\n",
    "    The example demonstrates the issue. The returned swapped_coords are expected to have swapped\n",
    "    x and y coordinates in each of the rows.\n",
    "    \"\"\"\n",
    "    # Swap x1 and y1, and x2 and y2\n",
    "    coords[:, [0, 1, 2, 3]] = coords[:, [1, 0, 3, 2]]\n",
    "    return coords"
   ]
  },
  {
   "cell_type": "markdown",
   "id": "e195fd55",
   "metadata": {},
   "source": [
    "With this corrected implementation, the function should correctly swap the x and y coordinates in each row of the coords array."
   ]
  },
  {
   "cell_type": "code",
   "execution_count": null,
   "id": "3079eaec",
   "metadata": {},
   "outputs": [],
   "source": []
  },
  {
   "cell_type": "code",
   "execution_count": null,
   "id": "6a9c5175",
   "metadata": {},
   "outputs": [],
   "source": []
  },
  {
   "cell_type": "markdown",
   "id": "4340cf66",
   "metadata": {},
   "source": [
    "### Exercise 3:"
   ]
  },
  {
   "cell_type": "markdown",
   "id": "1cfcb29d",
   "metadata": {},
   "source": [
    "The issue in the code seems to be the incorrect order of the coordinates when plotting the precision-recall curve. The precision values are being plotted on the y-axis and the recall values on the x-axis, which is opposite to what is typically done.\n",
    "Here's how we can fix it:\n",
    "1. Correcting the order of plotting: We need to plot precision values on the y-axis and recall values on the x-axis.\n",
    "2. Fixing the axes labels: The x-axis should be labeled 'Recall' and the y-axis should be labeled 'Precision'.\n",
    "\n"
   ]
  },
  {
   "cell_type": "code",
   "execution_count": null,
   "id": "e628030c",
   "metadata": {},
   "outputs": [],
   "source": [
    "def plot_data(csv_file_path: str):\n",
    "    \"\"\"\n",
    "    This code plots the precision-recall curve based on data from a .csv file,\n",
    "    where precision is on the x-axis and recall is on the y-axis.\n",
    "    It it not so important right now what precision and recall means.\n",
    "\n",
    "    :param csv_file_path: The CSV file containing the data to plot.\n",
    "\n",
    "\n",
    "    **This method is part of a series of debugging exercises.**\n",
    "    **Each Python method of this series contains bug that needs to be found.**\n",
    "\n",
    "    | ``1   For some reason the plot is not showing correctly, can you find out what is going wrong?``\n",
    "    | ``2   How could this be fixed?``\n",
    "\n",
    "    This example demonstrates the issue.\n",
    "    It first generates some data in a csv file format and the plots it using the ``plot_data`` method.\n",
    "    If you manually check the coordinates and then check the plot, they do not correspond.\n",
    "\n",
    "    >>> f = open(\"data_file.csv\", \"w\")\n",
    "    >>> w = csv.writer(f)\n",
    "    >>> _ = w.writerow([\"precision\", \"recall\"])\n",
    "    >>> w.writerows([[0.013,0.951],\n",
    "    ...              [0.376,0.851],\n",
    "    ...              [0.441,0.839],\n",
    "    ...              [0.570,0.758],\n",
    "    ...              [0.635,0.674],\n",
    "    ...              [0.721,0.604],\n",
    "    ...              [0.837,0.531],\n",
    "    ...              [0.860,0.453],\n",
    "    ...              [0.962,0.348],\n",
    "    ...              [0.982,0.273],\n",
    "    ...              [1.0,0.0]])\n",
    "    >>> f.close()\n",
    "    >>> plot_data('data_file.csv')\n",
    "    \"\"\"\n",
    "    # load data\n",
    "    results = []\n",
    "    with open(csv_file_path) as result_csv:\n",
    "        csv_reader = csv.reader(result_csv, delimiter=',')\n",
    "        next(csv_reader)\n",
    "        for row in csv_reader:\n",
    "            results.append(row)\n",
    "        results = np.stack(results)\n",
    "\n",
    "    # plot precision-recall curve\n",
    "    plt.plot(results[:, 1], results[:, 0])  # Flipping the x and y axes\n",
    "    plt.ylim([-0.05, 1.05])\n",
    "    plt.xlim([-0.05, 1.05])\n",
    "    plt.xlabel('Recall')  # Correcting axis labels\n",
    "    plt.ylabel('Precision')  # Correcting axis labels\n",
    "    plt.show()"
   ]
  },
  {
   "cell_type": "code",
   "execution_count": null,
   "id": "99392905",
   "metadata": {},
   "outputs": [],
   "source": []
  },
  {
   "cell_type": "code",
   "execution_count": null,
   "id": "49dc97a6",
   "metadata": {},
   "outputs": [],
   "source": []
  },
  {
   "cell_type": "markdown",
   "id": "d62c69fb",
   "metadata": {},
   "source": [
    "### Exercise 4"
   ]
  },
  {
   "cell_type": "markdown",
   "id": "b7953ff5",
   "metadata": {},
   "source": [
    "To address the ValueError regarding the target size being different from the input size when changing the batch size to 64, you need to ensure that the sizes of your input and target data match. This typically arises when you're dealing with data transformations or operations that depend on the batch size.\n",
    "\n",
    "In the given context of a GAN training loop, it's likely that the input and target data are not being synchronized properly during the training iteration. Specifically, the discriminator might be producing outputs with a size that does not match the expected size for the loss calculation.\n",
    "\n",
    "The cosmetic bug is likely a minor issue related to code formatting, comments, or variable naming that doesn't affect the functionality of the code but may improve readability or maintainability.\n",
    "\n",
    "To resolve the ValueError, you should check the code sections where the input and target data are being prepared for the discriminator's forward pass and ensure that they have the same size, especially with respect to the batch dimension. This might involve inspecting the code where the discriminator's output is compared to the target labels or where the loss is computed."
   ]
  },
  {
   "cell_type": "code",
   "execution_count": null,
   "id": "948ea1dc",
   "metadata": {},
   "outputs": [],
   "source": [
    "#Import Matplotlib that was originally missing from the code\n",
    "    \n",
    "import matplotlib.pyplot as plt\n",
    "\n",
    "# Data for training the discriminator\n",
    "real_samples = real_samples.to(device=device)\n",
    "real_samples_labels = torch.ones((real_samples.size(0), 1)).to(device=device)  # Update size here\n",
    "latent_space_samples = torch.randn((batch_size, 100)).to(device=device)\n",
    "generated_samples = generator(latent_space_samples)\n",
    "generated_samples_labels = torch.zeros((generated_samples.size(0), 1)).to(device=device)  # Update size here\n",
    "all_samples = torch.cat((real_samples, generated_samples))\n",
    "all_samples_labels = torch.cat((real_samples_labels, generated_samples_labels))\n",
    "# Training the discriminator\n",
    "discriminator.zero_grad()\n",
    "output_discriminator = discriminator(all_samples)\n",
    "loss_discriminator = loss_function(output_discriminator, all_samples_labels)\n",
    "loss_discriminator.backward()\n",
    "optimizer_discriminator.step()"
   ]
  },
  {
   "cell_type": "markdown",
   "id": "be87ef05",
   "metadata": {},
   "source": [
    "Additionally, for the cosmetic bug, I noticed that there is a missing import statement for the matplotlib.pyplot module. "
   ]
  },
  {
   "cell_type": "code",
   "execution_count": null,
   "id": "4bdb6cee",
   "metadata": {},
   "outputs": [],
   "source": []
  }
 ],
 "metadata": {
  "kernelspec": {
   "display_name": "Python 3 (ipykernel)",
   "language": "python",
   "name": "python3"
  },
  "language_info": {
   "codemirror_mode": {
    "name": "ipython",
    "version": 3
   },
   "file_extension": ".py",
   "mimetype": "text/x-python",
   "name": "python",
   "nbconvert_exporter": "python",
   "pygments_lexer": "ipython3",
   "version": "3.9.12"
  }
 },
 "nbformat": 4,
 "nbformat_minor": 5
}
